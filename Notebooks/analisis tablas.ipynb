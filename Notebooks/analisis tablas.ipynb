{
 "cells": [
  {
   "cell_type": "code",
   "execution_count": null,
   "metadata": {},
   "outputs": [],
   "source": [
    "import pandas as pd\n",
    "import psycopg2\n",
    "import os"
   ]
  },
  {
   "cell_type": "code",
   "execution_count": null,
   "metadata": {},
   "outputs": [],
   "source": [
    "conn = psycopg2.connect(\n",
    "        host = \"proyecto-final-henry.ctv6lgil6x7r.us-east-1.rds.amazonaws.com\",\n",
    "        port = 5432,\n",
    "        user = \"postgres\",\n",
    "        password = \"lorussoasoc\",\n",
    "        database = \"lorussoasoc\"\n",
    "    )"
   ]
  },
  {
   "cell_type": "code",
   "execution_count": null,
   "metadata": {},
   "outputs": [],
   "source": [
    "conn.autocommit = True"
   ]
  },
  {
   "cell_type": "code",
   "execution_count": null,
   "metadata": {},
   "outputs": [],
   "source": [
    "query = \"\"\"\n",
    "SELECT a.id_pais PAIS, a.year ANIO, paises.longitude LONG, paises.latitude LAT, paises.incomelevel \"NIVEL INGRESOS\",\n",
    "\ta.agua \"ACCESO AGUA\", \n",
    "\tb.acceso_electricidad \"ACCESO ELECTRICIDAD\", \n",
    "\tc.agotamiento_recursos \"AGOTAMIENTO RECURSOS\",\n",
    "\td.alfabetizacion \"ALFABETIZACION\",\n",
    "\te.anios_escolares \"ANIOS ESCOLARIDAD\",\n",
    "\tf.camas_hospitales \"CAMAS HOSPITALES\",\n",
    "\tg.alcohol \"CONSUMO ALCOHOL\",\n",
    "\th.densidad_poblacion \"DENSIDAD POBLACION\",\n",
    "\ti.desempleo \"DESEMPLEO\",\n",
    "\tj.emisiones_co2 \"EMISIONES CO2\",\n",
    "\tk.fuerza_laboral \"FUERZA LABORAL\",\n",
    "\tl.gini \"GINI\",\n",
    "\tm.ingreso_medio_pc \"INGRESO MEDIO PC\",\n",
    "\tn.desarrollo \"INVERSION DESARROLLO\",\n",
    "\to.inversion_educacion \"INVERSION EDUCACION\",\n",
    "\tp.salud \"INVERSION SALUD\",\n",
    "\tq.obesidad \"OBESIDAD\",\n",
    "\tr.pib \"PIB\",\n",
    "\ts.poblacion \"POBLACION\",\n",
    "\tt.produccion_alimentos \"PRODUCCION ALIMENTOS\",\n",
    "\tu.renta_recursos \"RENTA RECURSOS\",\n",
    "\tv.srv_sanit_bas \"SERV SANITARIOS\",\n",
    "\tw.industria \"INDUSTRIA\"\n",
    "FROM tbl_acceso_agua_potable a\n",
    "\n",
    "LEFT JOIN tbl_paises paises\n",
    "ON a.id_pais = paises.id_pais\n",
    "\n",
    "LEFT JOIN tbl_acceso_electricidad b\n",
    "ON a.id_pais = b.id_pais AND a.year = b.year\n",
    "\n",
    "LEFT JOIN tbl_agotamiento_recursos_naturales c\n",
    "ON a.id_pais = c.id_pais AND a.year = c.year\n",
    "\n",
    "LEFT JOIN tbl_alfabetizacion_porc d\n",
    "ON a.id_pais = d.id_pais AND a.year = d.year\n",
    "\n",
    "LEFT JOIN tbl_anios_medios_escolaridad e\n",
    "ON a.id_pais = e.id_pais AND a.year = e.year\n",
    "\n",
    "LEFT JOIN tbl_camas_hospitales f\n",
    "ON a.id_pais = f.id_pais AND a.year = f.year\n",
    "\n",
    "LEFT JOIN tbl_consumo_alcohol g\n",
    "ON a.id_pais = g.id_pais AND a.year = g.year\n",
    "\n",
    "LEFT JOIN tbl_densidad_poblacion h\n",
    "ON a.id_pais = h.id_pais AND a.year = h.year\n",
    "\n",
    "LEFT JOIN tbl_desempleo_fl i\n",
    "ON a.id_pais = i.id_pais AND a.year = i.year\n",
    "\n",
    "LEFT JOIN tbl_emisiones_co2 j\n",
    "ON a.id_pais = j.id_pais AND a.year = j.year\n",
    "\n",
    "LEFT JOIN tbl_fuerza_laboral k\n",
    "ON a.id_pais = k.id_pais AND a.year = k.year\n",
    "\n",
    "LEFT JOIN tbl_gini l\n",
    "ON a.id_pais = l.id_pais AND a.year = l.year\n",
    "\n",
    "LEFT JOIN tbl_ingreso_medio_pc m\n",
    "ON a.id_pais = m.id_pais AND a.year = m.year\n",
    "\n",
    "LEFT JOIN tbl_inversion_desarrollo n\n",
    "ON a.id_pais = n.id_pais AND a.year = n.year\n",
    "\n",
    "LEFT JOIN tbl_inversion_educacion o\n",
    "ON a.id_pais = o.id_pais AND a.year = o.year\n",
    "\n",
    "LEFT JOIN tbl_inversion_salud p\n",
    "ON a.id_pais = p.id_pais AND a.year = p.year\n",
    "\n",
    "LEFT JOIN tbl_obesidad q\n",
    "ON a.id_pais = q.id_pais AND a.year = q.year\n",
    "\n",
    "LEFT JOIN tbl_pib r\n",
    "ON a.id_pais = r.id_pais AND a.year = r.year\n",
    "\n",
    "LEFT JOIN tbl_poblacion s\n",
    "ON a.id_pais = s.id_pais AND a.year = s.year\n",
    "\n",
    "LEFT JOIN tbl_produccion_alimentos t\n",
    "ON a.id_pais = t.id_pais AND a.year = t.year\n",
    "\n",
    "LEFT JOIN tbl_renta_recursos_naturales u\n",
    "ON a.id_pais = u.id_pais AND a.year = u.year\n",
    "\n",
    "LEFT JOIN tbl_srv_sanit_bas v\n",
    "ON a.id_pais = v.id_pais AND a.year = v.year\n",
    "\n",
    "LEFT JOIN tbl_valor_industria w\n",
    "ON a.id_pais = w.id_pais AND a.year = w.year\n",
    "\n",
    "\"\"\""
   ]
  },
  {
   "cell_type": "code",
   "execution_count": null,
   "metadata": {},
   "outputs": [],
   "source": [
    "cursor = conn.cursor()\n",
    "cursor.copy_expert(query_paises, open(csv_paises, \"r\"))\n",
    "print(\"tbl_paises cargada\")"
   ]
  }
 ],
 "metadata": {
  "kernelspec": {
   "display_name": "Python 3.10.1 64-bit",
   "language": "python",
   "name": "python3"
  },
  "language_info": {
   "name": "python",
   "version": "3.10.1"
  },
  "orig_nbformat": 4,
  "vscode": {
   "interpreter": {
    "hash": "7a00de2d03a2cdd800050a5fd9903e27ef0ab168083508fb826c5866b9462f56"
   }
  }
 },
 "nbformat": 4,
 "nbformat_minor": 2
}
